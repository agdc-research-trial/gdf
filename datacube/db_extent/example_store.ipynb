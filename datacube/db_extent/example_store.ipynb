{
 "cells": [
  {
   "cell_type": "markdown",
   "metadata": {
    "collapsed": true
   },
   "source": [
    "## Get the Connections to the databases\n",
    "\n",
    "The loading datacube database for extent/bounds computations can be different from storing datacube database."
   ]
  },
  {
   "cell_type": "code",
   "execution_count": null,
   "metadata": {},
   "outputs": [],
   "source": [
    "from datacube.index import Index\n",
    "from datacube.drivers.postgres import PostgresDb\n",
    "from datacube.db_extent import ExtentIndex, ExtentUpload\n",
    "\n",
    "EXTENT_DB = PostgresDb.create(hostname='agdcdev-db.nci.org.au', database='datacube', \n",
    "                              port=6432, username='aj9439')\n",
    "EXTENT_IDX = ExtentUpload(hostname='agdc-db.nci.org.au', database='datacube', port=6432,\n",
    "                          username='aj9439', extent_index=Index(EXTENT_DB))"
   ]
  },
  {
   "cell_type": "markdown",
   "metadata": {},
   "source": [
    "## Store into extents table\n",
    "\n",
    "The extents can be calculated and stored per time period. The time periods are represented by pandas offset \n",
    "alias strings, for example '1M' implies one month. For offset alias of one month, the extents of \n",
    "all the months within start and end parameters will be stored in the database. "
   ]
  },
  {
   "cell_type": "code",
   "execution_count": 2,
   "metadata": {},
   "outputs": [],
   "source": [
    "EXTENT_IDX.store_extent(product_name='ls8_nbar_albers', start='2017-01',\n",
    "                        end='2017-02', offset_alias='1M', projection='EPSG:4326')"
   ]
  },
  {
   "cell_type": "markdown",
   "metadata": {},
   "source": [
    "## Store into bounds table\n",
    "\n",
    "The time min (lower), time max (upper), and boundary box (bounds) values can be computed and stored in the database per product basis.\n"
   ]
  },
  {
   "cell_type": "code",
   "execution_count": 3,
   "metadata": {},
   "outputs": [],
   "source": [
    "EXTENT_IDX.store_bounds(product_name='ls8_nbar_albers', projection='EPSG:4326')"
   ]
  },
  {
   "cell_type": "markdown",
   "metadata": {},
   "source": [
    "## Store extents per period for a product for entire time span"
   ]
  },
  {
   "cell_type": "code",
   "execution_count": null,
   "metadata": {},
   "outputs": [],
   "source": [
    "# First lets read the time bounds\n",
    "BOUNDS_DATA = EXTENT_IDX.get_bounds('ls8_nbar_albers')\n",
    "\n",
    "# store extents within the time bounds\n",
    "EXTENT_IDX.store_extent(product_name='ls8_nbar_albers', start=BOUNDS_DATA['start'],\n",
    "                        end=BOUNDS_DATA['end'], offset_alias='1M', projection='EPSG:4326')\n"
   ]
  }
 ],
 "metadata": {
  "kernelspec": {
   "display_name": "Python 2",
   "language": "python",
   "name": "python2"
  },
  "language_info": {
   "codemirror_mode": {
    "name": "ipython",
    "version": 2
   },
   "file_extension": ".py",
   "mimetype": "text/x-python",
   "name": "python",
   "nbconvert_exporter": "python",
   "pygments_lexer": "ipython2",
   "version": "2.7.6"
  }
 },
 "nbformat": 4,
 "nbformat_minor": 0
}
